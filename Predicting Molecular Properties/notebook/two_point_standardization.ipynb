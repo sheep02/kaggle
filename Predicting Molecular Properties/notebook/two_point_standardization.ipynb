{
 "cells": [
  {
   "cell_type": "code",
   "execution_count": 14,
   "metadata": {},
   "outputs": [],
   "source": [
    "import matplotlib.pyplot as plt\n",
    "\n",
    "#%matplotlib notebook\n",
    "\n",
    "#%matplotlib inline\n",
    "from matplotlib import animation\n",
    "from mpl_toolkits.mplot3d import Axes3D\n",
    "import matplotlib as mpl\n",
    "mpl.rcParams['legend.fontsize'] = 10\n",
    "\n",
    "import numpy as np\n",
    "\n",
    "from numba import jit"
   ]
  },
  {
   "cell_type": "code",
   "execution_count": 22,
   "metadata": {},
   "outputs": [],
   "source": [
    "@jit(nopython=True)\n",
    "def normalize(v):\n",
    "    return v / np.linalg.norm(v)\n",
    "\n",
    "def cos_sim(a,b):\n",
    "    return np.dot(a, b) / ( np.linalg.norm(a) * np.linalg.norm(b) )"
   ]
  },
  {
   "cell_type": "code",
   "execution_count": 76,
   "metadata": {},
   "outputs": [
    {
     "data": {
      "text/plain": [
       "0.3713906763541037"
      ]
     },
     "execution_count": 76,
     "metadata": {},
     "output_type": "execute_result"
    }
   ],
   "source": [
    "cos_sim([2,3,4], [1, 0, 0])"
   ]
  },
  {
   "cell_type": "code",
   "execution_count": 77,
   "metadata": {},
   "outputs": [
    {
     "data": {
      "text/plain": [
       "0.3713906763541037"
      ]
     },
     "execution_count": 77,
     "metadata": {},
     "output_type": "execute_result"
    }
   ],
   "source": [
    " 2 / np.linalg.norm([2,3,4])"
   ]
  },
  {
   "cell_type": "code",
   "execution_count": 3,
   "metadata": {},
   "outputs": [
    {
     "data": {
      "text/plain": [
       "array([[ 0.5 ,  0.75, -0.68],\n",
       "       [-0.5 ,  0.02, -0.56],\n",
       "       [-0.48,  0.08,  0.75],\n",
       "       [ 0.68,  0.47, -0.8 ],\n",
       "       [ 0.33, -0.44,  0.97],\n",
       "       [-0.86, -0.82,  0.07],\n",
       "       [ 0.21, -0.24, -0.29],\n",
       "       [-0.2 , -0.48, -0.9 ],\n",
       "       [ 0.24, -0.92, -0.37],\n",
       "       [ 0.27, -0.11,  0.36]])"
      ]
     },
     "execution_count": 3,
     "metadata": {},
     "output_type": "execute_result"
    }
   ],
   "source": [
    "smpl = np.random.randint(low=-1e+2, high=1e+2, size=(10, 3)) / 1e+2\n",
    "smpls"
   ]
  },
  {
   "cell_type": "code",
   "execution_count": 72,
   "metadata": {},
   "outputs": [
    {
     "name": "stdout",
     "output_type": "stream",
     "text": [
      "[4 2 0 6 8 4 5 5 6 0] [2 9 1 0 5 6 7 3 8 4] [6 8 6]\n"
     ]
    }
   ],
   "source": [
    "a = np.random.randint(10, size=10)\n",
    "print(a, np.argsort(a), a[(a > 5) & (a < 9)])"
   ]
  },
  {
   "cell_type": "code",
   "execution_count": 73,
   "metadata": {},
   "outputs": [],
   "source": [
    "@jit(nopython=True)\n",
    "def two_point_standardization(struct, idx0, idx1):\n",
    "    \n",
    "    coo0 = struct[idx0]\n",
    "    coo1 = struct[idx1]\n",
    "    \n",
    "    normal = (coo1 - coo0) / 2\n",
    "    \n",
    "    normal_unit = normalize(normal)\n",
    "    \n",
    "    vec0 = coo0 + normal\n",
    "    \n",
    "    # Plane Equation\n",
    "    d = -vec0 @ normal\n",
    "    plane = lambda x, y: (-normal[0] * x - normal[1] * y - d) / normal[2]\n",
    "    #\n",
    "    \n",
    "    # make orthonormal basis on plane\n",
    "    u_x = 1\n",
    "    u_y = 0\n",
    "    \n",
    "    u = np.array([u_x, u_y, plane(u_x + vec0[0], u_y + vec0[1]) - vec0[2]])\n",
    "    \n",
    "    ## Cross product\n",
    "    a1, a2, a3 = u\n",
    "    b1, b2, b3 = normal\n",
    "    \n",
    "    v = np.array(\n",
    "        [\n",
    "            a2 * b3 - a3 * b2,\n",
    "            a3 * b1 - a1 * b3,\n",
    "            a1 * b2 - a2 * b1\n",
    "        ]\n",
    "    ) \n",
    "    ##\n",
    "    \n",
    "    u_unit = normalize(u)\n",
    "    v_unit = normalize(v)\n",
    "    #\n",
    "\n",
    "    # Change of basis\n",
    "    basis_matrix = np.vstack((normal_unit, u_unit, v_unit)).T    \n",
    "    transform_matrix = np.linalg.inv(basis_matrix)\n",
    "    #\n",
    "    \n",
    "    return transform_matrix @ (struct - vec0).T"
   ]
  },
  {
   "cell_type": "code",
   "execution_count": 74,
   "metadata": {},
   "outputs": [
    {
     "data": {
      "text/plain": [
       "array([[-0.54966034, -0.05104236, -0.34603929],\n",
       "       [ 0.50774691, -0.70507663, -0.38384244],\n",
       "       [ 1.12848879,  0.19739262, -1.10518062],\n",
       "       [-0.49626102,  0.        , -0.        ],\n",
       "       [ 1.2299475 ,  0.9421208 , -0.46487907],\n",
       "       [ 1.60283594, -0.54286575, -0.30280145],\n",
       "       [ 0.49626102,  0.        ,  0.        ],\n",
       "       [ 0.5486528 , -0.71488138,  0.28982705],\n",
       "       [ 0.92738495, -0.0321538 ,  0.53178783],\n",
       "       [ 0.70885076,  0.48461402, -0.40367667]])"
      ]
     },
     "execution_count": 74,
     "metadata": {},
     "output_type": "execute_result"
    }
   ],
   "source": [
    "np.around(two_point_standardization(smpl, 3,6).T, decimals=14)"
   ]
  },
  {
   "cell_type": "code",
   "execution_count": 13,
   "metadata": {},
   "outputs": [
    {
     "data": {
      "text/plain": [
       "array([[ 0.54966034, -0.50774691, -1.12848879,  0.49626102, -1.2299475 ,\n",
       "        -1.60283594, -0.49626102, -0.5486528 , -0.92738495, -0.70885076],\n",
       "       [-0.05104236, -0.70507663,  0.19739262, -0.        ,  0.9421208 ,\n",
       "        -0.54286575, -0.        , -0.71488138, -0.0321538 ,  0.48461402],\n",
       "       [ 0.34603929,  0.38384244,  1.10518062,  0.        ,  0.46487907,\n",
       "         0.30280145, -0.        , -0.28982705, -0.53178783,  0.40367667]])"
      ]
     },
     "execution_count": 13,
     "metadata": {},
     "output_type": "execute_result"
    }
   ],
   "source": [
    "np.around(two_point_standardization(smpl, 3,6).T, decimals=14).T"
   ]
  },
  {
   "cell_type": "code",
   "execution_count": 12,
   "metadata": {},
   "outputs": [
    {
     "data": {
      "text/plain": [
       "array([0.65151746, 0.94988157, 1.591815  , 0.49626102, 1.61755216,\n",
       "       1.7191495 , 0.49626102, 0.94661238, 1.06952092, 0.94882822])"
      ]
     },
     "execution_count": 12,
     "metadata": {},
     "output_type": "execute_result"
    }
   ],
   "source": [
    "np.linalg.norm(np.around(two_point_standardization(smpl, 3,6), decimals=14), axis=0)"
   ]
  },
  {
   "cell_type": "code",
   "execution_count": null,
   "metadata": {},
   "outputs": [],
   "source": [
    "def make4class(struct, idx0, idx1):\n",
    "    \n",
    "    standardized = np.around(two_point_standardization(struct, idx0, idx1), decimals=14)\n",
    "    norm = np.linalg.norm(standardized, axis=0)\n",
    "    \n",
    "    #struct['relative_x'] = struct.T[0]\n",
    "    #struct['relative_norm'] = norm\n",
    "    \n",
    "    \n",
    "    \n",
    "    \n",
    "    \n",
    "    "
   ]
  },
  {
   "cell_type": "code",
   "execution_count": null,
   "metadata": {},
   "outputs": [],
   "source": [
    "def generator(idxes, batch_size=32):\n",
    "\n",
    "    while True:\n",
    "\n",
    "        x = np.empty((batch_size, , , ))\n",
    "        y = np.empty((batch_size,))\n",
    "\n",
    "        for i, row in enumerate(rows):\n",
    "            \n",
    "            for j in range(4):\n",
    "                \n",
    "                row += np.random.randint(-50, +50)\n",
    "                segment = flatiron(train.acoustic_data.values[row-147456:row])\n",
    "                smpl = np.empty((4096,36))\n",
    "                \n",
    "                for k in range(4096):\n",
    "                    \n",
    "                    smpl[k] = segment[k::4096]\n",
    "                    \n",
    "                x[(batch_size//4)*j+i] = smpl.reshape(288, 512)[:, 256:, np.newaxis]\n",
    "                y[(batch_size//4)*j+i] = train.time_to_failure.values[row]\n",
    "\n",
    "        yield x, y"
   ]
  }
 ],
 "metadata": {
  "kernelspec": {
   "display_name": "Python 3",
   "language": "python",
   "name": "python3"
  },
  "language_info": {
   "codemirror_mode": {
    "name": "ipython",
    "version": 3
   },
   "file_extension": ".py",
   "mimetype": "text/x-python",
   "name": "python",
   "nbconvert_exporter": "python",
   "pygments_lexer": "ipython3",
   "version": "3.6.7"
  }
 },
 "nbformat": 4,
 "nbformat_minor": 2
}
