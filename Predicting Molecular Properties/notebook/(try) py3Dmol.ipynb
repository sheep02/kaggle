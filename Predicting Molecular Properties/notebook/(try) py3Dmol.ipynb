{
 "cells": [
  {
   "cell_type": "code",
   "execution_count": null,
   "metadata": {},
   "outputs": [],
   "source": [
    "# Metrics\n",
    "# https://www.kaggle.com/uberkinder/efficient-metric\n",
    "\n",
    "# Features\n",
    "# https://www.kaggle.com/artgor/brute-force-feature-engineering\n",
    "# https://www.kaggle.com/kmat2019/effective-feature\n",
    "# https://www.kaggle.com/asauve/dataset-with-number-of-bonds-between-atoms\n",
    "\n",
    "# Library\n",
    "# https://www.dgl.ai/\n",
    "# https://www.kaggle.com/jpmiller/another-distance-calculation-gpu-superfast\n",
    "\n",
    "# Works\n",
    "# 3次元空間上のグラフに対して、接続情報を使わずに、ノード間の距離のみを用いて畳み込みを行う手法を提案した。また、分子全体のエネルギーを予測するタスクにおいて、原子間力の予測誤差最小化も同時に行うことで性能改善を行った。\n",
    "# https://www.slideshare.net/KazukiFujikawa/schnet-a-continuousfilter-convolutional-neural-network-for-modeling-quantum-interactions\n",
    "\n",
    "# グラフNNは表現力が低く訓練誤差を小さくできない未学習が発生しやすい。Graph Warp Moduleはゲートと注意機構を利用して全ノードからの情報を集約、放送でき、多くのグラフNNの表現力を大きく上げることができる。\n",
    "# arxiv.org/abs/1902.01020 \n",
    "\n",
    "# GCNはローパスフィルタと二層NNで近似可能\n",
    "# https://arxiv.org/abs/1905.09550"
   ]
  },
  {
   "cell_type": "markdown",
   "metadata": {},
   "source": [
    "# EDA kernels\n",
    "* https://www.kaggle.com/kabure/simple-eda-lightgbm-autotuning-w-hyperopt\n",
    "* https://www.kaggle.com/underscrew/atomic-distance-initial-eda\n",
    "* https://www.kaggle.com/bashir4909/intro-eda-part1-types\n",
    "* https://www.kaggle.com/pestipeti/interactive-3d-molecule-structure\n",
    "* https://www.kaggle.com/asauve/training-set-molecule-visualization\n",
    "* https://www.kaggle.com/kenmatsu4/3d-structure-plots"
   ]
  },
  {
   "cell_type": "markdown",
   "metadata": {},
   "source": [
    "* dipole_moments [Dipole Moments](https://chem.libretexts.org/Bookshelves/Physical_and_Theoretical_Chemistry_Textbook_Maps/Supplemental_Modules_%28Physical_and_Theoretical_Chemistry%29/Physical_Properties_of_Matter/Atomic_and_Molecular_Properties/Dipole_Moments)\n",
    "* magnetic_shielding_tensors (search: \"magnetic shielding molecule\")\n",
    "* [Mulliken population](https://www2.chemistry.msu.edu/courses/cem888/harrison/topics_pdf/population_analysis.pdf)\n",
    "* potential_energy[Chemical Potential Energy](https://chem.libretexts.org/Bookshelves/Introductory_Chemistry/Book%3A_Introductory_Chemistry_%28CK-12%29/17%3A_Thermochemistry/17.01%3A_Chemical_Potential_Energy)\n",
    "* https://www.kaggle.com/kingychiu/1-r-3\n",
    "* https://www.kaggle.com/kmat2019/effective-feature"
   ]
  },
  {
   "cell_type": "code",
   "execution_count": null,
   "metadata": {},
   "outputs": [],
   "source": [
    "# https://github.com/3dmol/3Dmol.js/blob/2c5e2f9b7224a0158c4072e30345246570ba5599/py3Dmol/examples.ipynb\n",
    "# "
   ]
  },
  {
   "cell_type": "code",
   "execution_count": 8,
   "metadata": {},
   "outputs": [
    {
     "data": {
      "application/3dmoljs_load.v0": "<div id=\"3dmolviewer_15605625967937293\"  style=\"position: relative; width: 400px; height: 400px\">\n        <p id=\"3dmolwarning_15605625967937293\" style=\"background-color:#ffcccc;color:black\">You appear to be running in JupyterLab (or JavaScript failed to load for some other reason).  You need to install the 3dmol extension: <br>\n        <tt>jupyter labextension install jupyterlab_3dmol</tt></p>\n        </div>\n<script>\n\nvar loadScriptAsync = function(uri){\n  return new Promise((resolve, reject) => {\n    var tag = document.createElement('script');\n    tag.src = uri;\n    tag.async = true;\n    tag.onload = () => {\n      resolve();\n    };\n  var firstScriptTag = document.getElementsByTagName('script')[0];\n  firstScriptTag.parentNode.insertBefore(tag, firstScriptTag);\n});\n};\n\nif(typeof $3Dmolpromise === 'undefined') {\n$3Dmolpromise = null;\n  $3Dmolpromise = loadScriptAsync('https://3dmol.csb.pitt.edu/build/3Dmol.js');\n}\n\nvar viewer_15605625967937293 = null;\nvar warn = document.getElementById(\"3dmolwarning_15605625967937293\");\nif(warn) {\n    warn.parentNode.removeChild(warn);\n}\n$3Dmolpromise.then(function() {\nviewer_15605625967937293 = $3Dmol.createViewer($(\"#3dmolviewer_15605625967937293\"),{backgroundColor:\"white\"});\n\tviewer_15605625967937293.addModel(\"4\\n* (null), Energy   -1000.0000000\\nN     0.000005    0.019779   -0.000003   -0.157114    0.000052   -0.012746\\nH     0.931955   -0.364989    0.000003    1.507100   -0.601158   -0.004108\\nH    -0.465975   -0.364992    0.807088    0.283368    0.257996   -0.583024\\nH    -0.465979   -0.364991   -0.807088    0.392764    0.342436    0.764260\\n\",\"xyz\",{\"vibrate\": {\"frames\": 10, \"amplitude\": 1}});\n\tviewer_15605625967937293.setStyle({\"stick\": {}});\n\tviewer_15605625967937293.setBackgroundColor(\"0xeeeeee\");\n\tviewer_15605625967937293.animate({\"loop\": \"backAndForth\"});\n\tviewer_15605625967937293.zoomTo();\nviewer_15605625967937293.render();\n});\n</script>",
      "text/html": [
       "<div id=\"3dmolviewer_15605625967937293\"  style=\"position: relative; width: 400px; height: 400px\">\n",
       "        <p id=\"3dmolwarning_15605625967937293\" style=\"background-color:#ffcccc;color:black\">You appear to be running in JupyterLab (or JavaScript failed to load for some other reason).  You need to install the 3dmol extension: <br>\n",
       "        <tt>jupyter labextension install jupyterlab_3dmol</tt></p>\n",
       "        </div>\n",
       "<script>\n",
       "\n",
       "var loadScriptAsync = function(uri){\n",
       "  return new Promise((resolve, reject) => {\n",
       "    var tag = document.createElement('script');\n",
       "    tag.src = uri;\n",
       "    tag.async = true;\n",
       "    tag.onload = () => {\n",
       "      resolve();\n",
       "    };\n",
       "  var firstScriptTag = document.getElementsByTagName('script')[0];\n",
       "  firstScriptTag.parentNode.insertBefore(tag, firstScriptTag);\n",
       "});\n",
       "};\n",
       "\n",
       "if(typeof $3Dmolpromise === 'undefined') {\n",
       "$3Dmolpromise = null;\n",
       "  $3Dmolpromise = loadScriptAsync('https://3dmol.csb.pitt.edu/build/3Dmol.js');\n",
       "}\n",
       "\n",
       "var viewer_15605625967937293 = null;\n",
       "var warn = document.getElementById(\"3dmolwarning_15605625967937293\");\n",
       "if(warn) {\n",
       "    warn.parentNode.removeChild(warn);\n",
       "}\n",
       "$3Dmolpromise.then(function() {\n",
       "viewer_15605625967937293 = $3Dmol.createViewer($(\"#3dmolviewer_15605625967937293\"),{backgroundColor:\"white\"});\n",
       "\tviewer_15605625967937293.addModel(\"4\\n* (null), Energy   -1000.0000000\\nN     0.000005    0.019779   -0.000003   -0.157114    0.000052   -0.012746\\nH     0.931955   -0.364989    0.000003    1.507100   -0.601158   -0.004108\\nH    -0.465975   -0.364992    0.807088    0.283368    0.257996   -0.583024\\nH    -0.465979   -0.364991   -0.807088    0.392764    0.342436    0.764260\\n\",\"xyz\",{\"vibrate\": {\"frames\": 10, \"amplitude\": 1}});\n",
       "\tviewer_15605625967937293.setStyle({\"stick\": {}});\n",
       "\tviewer_15605625967937293.setBackgroundColor(\"0xeeeeee\");\n",
       "\tviewer_15605625967937293.animate({\"loop\": \"backAndForth\"});\n",
       "\tviewer_15605625967937293.zoomTo();\n",
       "viewer_15605625967937293.render();\n",
       "});\n",
       "</script>"
      ]
     },
     "metadata": {},
     "output_type": "display_data"
    }
   ],
   "source": [
    "xyz = '''4\n",
    "* (null), Energy   -1000.0000000\n",
    "N     0.000005    0.019779   -0.000003   -0.157114    0.000052   -0.012746\n",
    "H     0.931955   -0.364989    0.000003    1.507100   -0.601158   -0.004108\n",
    "H    -0.465975   -0.364992    0.807088    0.283368    0.257996   -0.583024\n",
    "H    -0.465979   -0.364991   -0.807088    0.392764    0.342436    0.764260\n",
    "'''\n",
    "\n",
    "xyzview = py3Dmol.view(width=400,height=400)\n",
    "xyzview.addModel(xyz,'xyz',{'vibrate': {'frames':10,'amplitude':1}})\n",
    "xyzview.setStyle({'stick':{}})\n",
    "xyzview.setBackgroundColor('0xeeeeee')\n",
    "xyzview.animate({'loop': 'backAndForth'})\n",
    "xyzview.zoomTo()\n",
    "xyzview.show()"
   ]
  },
  {
   "cell_type": "code",
   "execution_count": 9,
   "metadata": {},
   "outputs": [
    {
     "data": {
      "application/3dmoljs_load.v0": "<div id=\"3dmolviewer_15605629708921776\"  style=\"position: relative; width: 640px; height: 480px\">\n        <p id=\"3dmolwarning_15605629708921776\" style=\"background-color:#ffcccc;color:black\">You appear to be running in JupyterLab (or JavaScript failed to load for some other reason).  You need to install the 3dmol extension: <br>\n        <tt>jupyter labextension install jupyterlab_3dmol</tt></p>\n        </div>\n<script>\n\nvar loadScriptAsync = function(uri){\n  return new Promise((resolve, reject) => {\n    var tag = document.createElement('script');\n    tag.src = uri;\n    tag.async = true;\n    tag.onload = () => {\n      resolve();\n    };\n  var firstScriptTag = document.getElementsByTagName('script')[0];\n  firstScriptTag.parentNode.insertBefore(tag, firstScriptTag);\n});\n};\n\nif(typeof $3Dmolpromise === 'undefined') {\n$3Dmolpromise = null;\n  $3Dmolpromise = loadScriptAsync('https://3dmol.csb.pitt.edu/build/3Dmol.js');\n}\n\nvar viewer_15605629708921776 = null;\nvar warn = document.getElementById(\"3dmolwarning_15605629708921776\");\nif(warn) {\n    warn.parentNode.removeChild(warn);\n}\n$3Dmolpromise.then(function() {\nviewer_15605629708921776 = $3Dmol.createViewer($(\"#3dmolviewer_15605629708921776\"),{backgroundColor:\"white\"});\n$3Dmol.download(\"pdb:1ubq\", viewer_15605629708921776, {}, function() {\n\tviewer_15605629708921776.setStyle({\"cartoon\": {\"color\": \"spectrum\"}});\nviewer_15605629708921776.render();\n})\n});\n</script>",
      "text/html": [
       "<div id=\"3dmolviewer_15605629708921776\"  style=\"position: relative; width: 640px; height: 480px\">\n",
       "        <p id=\"3dmolwarning_15605629708921776\" style=\"background-color:#ffcccc;color:black\">You appear to be running in JupyterLab (or JavaScript failed to load for some other reason).  You need to install the 3dmol extension: <br>\n",
       "        <tt>jupyter labextension install jupyterlab_3dmol</tt></p>\n",
       "        </div>\n",
       "<script>\n",
       "\n",
       "var loadScriptAsync = function(uri){\n",
       "  return new Promise((resolve, reject) => {\n",
       "    var tag = document.createElement('script');\n",
       "    tag.src = uri;\n",
       "    tag.async = true;\n",
       "    tag.onload = () => {\n",
       "      resolve();\n",
       "    };\n",
       "  var firstScriptTag = document.getElementsByTagName('script')[0];\n",
       "  firstScriptTag.parentNode.insertBefore(tag, firstScriptTag);\n",
       "});\n",
       "};\n",
       "\n",
       "if(typeof $3Dmolpromise === 'undefined') {\n",
       "$3Dmolpromise = null;\n",
       "  $3Dmolpromise = loadScriptAsync('https://3dmol.csb.pitt.edu/build/3Dmol.js');\n",
       "}\n",
       "\n",
       "var viewer_15605629708921776 = null;\n",
       "var warn = document.getElementById(\"3dmolwarning_15605629708921776\");\n",
       "if(warn) {\n",
       "    warn.parentNode.removeChild(warn);\n",
       "}\n",
       "$3Dmolpromise.then(function() {\n",
       "viewer_15605629708921776 = $3Dmol.createViewer($(\"#3dmolviewer_15605629708921776\"),{backgroundColor:\"white\"});\n",
       "$3Dmol.download(\"pdb:1ubq\", viewer_15605629708921776, {}, function() {\n",
       "\tviewer_15605629708921776.setStyle({\"cartoon\": {\"color\": \"spectrum\"}});\n",
       "viewer_15605629708921776.render();\n",
       "})\n",
       "});\n",
       "</script>"
      ]
     },
     "metadata": {},
     "output_type": "display_data"
    },
    {
     "data": {
      "text/plain": [
       "<py3Dmol.view at 0x29e9d822f60>"
      ]
     },
     "execution_count": 9,
     "metadata": {},
     "output_type": "execute_result"
    }
   ],
   "source": [
    "import py3Dmol\n",
    "view = py3Dmol.view(query='pdb:1ubq')\n",
    "view.setStyle({'cartoon':{'color':'spectrum'}})\n",
    "view"
   ]
  },
  {
   "cell_type": "code",
   "execution_count": null,
   "metadata": {},
   "outputs": [],
   "source": []
  }
 ],
 "metadata": {
  "kernelspec": {
   "display_name": "Python 3",
   "language": "python",
   "name": "python3"
  },
  "language_info": {
   "codemirror_mode": {
    "name": "ipython",
    "version": 3
   },
   "file_extension": ".py",
   "mimetype": "text/x-python",
   "name": "python",
   "nbconvert_exporter": "python",
   "pygments_lexer": "ipython3",
   "version": "3.6.7"
  }
 },
 "nbformat": 4,
 "nbformat_minor": 2
}
